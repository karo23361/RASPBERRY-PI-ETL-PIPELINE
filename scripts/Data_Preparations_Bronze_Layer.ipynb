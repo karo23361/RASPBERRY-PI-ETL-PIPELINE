{
  "nbformat": 4,
  "nbformat_minor": 0,
  "metadata": {
    "colab": {
      "provenance": []
    },
    "kernelspec": {
      "name": "python3",
      "display_name": "Python 3"
    },
    "language_info": {
      "name": "python"
    }
  },
  "cells": [
    {
      "cell_type": "code",
      "execution_count": 1,
      "metadata": {
        "id": "IIl0omoDBZ5C"
      },
      "outputs": [],
      "source": [
        "import pandas as pd\n"
      ]
    },
    {
      "cell_type": "markdown",
      "source": [
        "###Customer: Company column modification\n",
        "\n"
      ],
      "metadata": {
        "id": "eCNL5hZI7gD-"
      }
    },
    {
      "cell_type": "code",
      "source": [
        "customers_raw = pd.read_csv('customers-100000.csv')"
      ],
      "metadata": {
        "id": "ZAwBk4S8Pocc"
      },
      "execution_count": 44,
      "outputs": []
    },
    {
      "cell_type": "code",
      "source": [
        "customers_raw"
      ],
      "metadata": {
        "id": "kdh12mU2Cu3F",
        "collapsed": true
      },
      "execution_count": null,
      "outputs": []
    },
    {
      "cell_type": "code",
      "source": [
        "def wrap_test(text):\n",
        "  return f'\"{text}\"'"
      ],
      "metadata": {
        "id": "z5F13lJ7563l"
      },
      "execution_count": 4,
      "outputs": []
    },
    {
      "cell_type": "code",
      "source": [
        "customers_raw['Company'] = customers_raw['Company'].apply(wrap_test)"
      ],
      "metadata": {
        "id": "WHTBL-MQ6DRh"
      },
      "execution_count": 45,
      "outputs": []
    },
    {
      "cell_type": "code",
      "source": [
        "customers_raw.head(10)"
      ],
      "metadata": {
        "id": "rnWQwgyG6Q2X"
      },
      "execution_count": null,
      "outputs": []
    },
    {
      "cell_type": "code",
      "source": [
        "customers_raw.to_csv('customers_mdf-100000.csv', index=False)"
      ],
      "metadata": {
        "id": "HvrTrv5BbbwJ"
      },
      "execution_count": 51,
      "outputs": []
    },
    {
      "cell_type": "markdown",
      "source": [
        "###Leads: Company, Notes column modification"
      ],
      "metadata": {
        "id": "t_xGBKOn9ZjP"
      }
    },
    {
      "cell_type": "code",
      "source": [
        "leads_raw = pd.read_csv('leads-100000.csv')"
      ],
      "metadata": {
        "id": "GSXGc5nd_zYQ"
      },
      "execution_count": 20,
      "outputs": []
    },
    {
      "cell_type": "code",
      "source": [
        "leads_raw.head(10)"
      ],
      "metadata": {
        "id": "_kXoV8t5-EUl"
      },
      "execution_count": null,
      "outputs": []
    },
    {
      "cell_type": "code",
      "source": [
        "leads_raw['Company'] = leads_raw['Company'].apply(wrap_test)\n",
        "leads_raw['Notes'] = leads_raw['Notes'].apply(wrap_test)"
      ],
      "metadata": {
        "id": "abk9yXoS-TmS"
      },
      "execution_count": 22,
      "outputs": []
    },
    {
      "cell_type": "code",
      "source": [
        "leads_raw.head(5)"
      ],
      "metadata": {
        "id": "o5KC8oj3-V9F"
      },
      "execution_count": null,
      "outputs": []
    },
    {
      "cell_type": "code",
      "source": [
        "leads_raw.to_csv('leads_mdf-100000.csv', index=False)"
      ],
      "metadata": {
        "id": "UW-GGWHPcWcN"
      },
      "execution_count": 50,
      "outputs": []
    },
    {
      "cell_type": "markdown",
      "source": [
        "###Organizations: Name, Industry, Description modification\n"
      ],
      "metadata": {
        "id": "l6S1ZmiwPt2c"
      }
    },
    {
      "cell_type": "code",
      "source": [
        "organizations_raw = pd.read_csv('organizations-100000.csv')"
      ],
      "metadata": {
        "id": "Z8jx1ellPtbf"
      },
      "execution_count": 26,
      "outputs": []
    },
    {
      "cell_type": "code",
      "source": [
        "organizations_raw.tail(20)"
      ],
      "metadata": {
        "id": "xZSRIyr4Q6xH"
      },
      "execution_count": null,
      "outputs": []
    },
    {
      "cell_type": "code",
      "source": [
        "organizations_raw['Name'] = organizations_raw['Name'].apply(wrap_test)\n",
        "organizations_raw['Industry'] = organizations_raw['Industry'].apply(wrap_test)\n",
        "organizations_raw['Description'] = organizations_raw['Description'].apply(wrap_test)"
      ],
      "metadata": {
        "id": "PYH933RiUB07"
      },
      "execution_count": 30,
      "outputs": []
    },
    {
      "cell_type": "code",
      "source": [
        "organizations_raw.head(10)"
      ],
      "metadata": {
        "id": "YzacIPY2Wgrq"
      },
      "execution_count": null,
      "outputs": []
    },
    {
      "cell_type": "code",
      "source": [
        "organizations_raw.to_csv('organizations_mdf-100000.csv', index=False)"
      ],
      "metadata": {
        "id": "yFQE6S7Ecj4r"
      },
      "execution_count": 52,
      "outputs": []
    },
    {
      "cell_type": "markdown",
      "source": [
        "###People: Job Title modifi"
      ],
      "metadata": {
        "id": "RgNExreAX_lB"
      }
    },
    {
      "cell_type": "code",
      "source": [
        "people_raw = pd.read_csv('people-100000.csv')"
      ],
      "metadata": {
        "id": "XCfs2-cHX_J7"
      },
      "execution_count": 32,
      "outputs": []
    },
    {
      "cell_type": "code",
      "source": [
        "people_raw.head(10)"
      ],
      "metadata": {
        "id": "u5zS3OWJYS3e"
      },
      "execution_count": null,
      "outputs": []
    },
    {
      "cell_type": "code",
      "source": [
        "people_raw['Job Title'] = people_raw['Job Title'].apply(wrap_test)"
      ],
      "metadata": {
        "id": "97ydFevFYVbj"
      },
      "execution_count": 34,
      "outputs": []
    },
    {
      "cell_type": "code",
      "source": [
        "people_raw.head(10)"
      ],
      "metadata": {
        "id": "EKZtgrytYat3"
      },
      "execution_count": null,
      "outputs": []
    },
    {
      "cell_type": "code",
      "source": [
        "people_raw.to_csv('people_mdf-100000.csv', index=False)"
      ],
      "metadata": {
        "id": "JkJUWmTjcmAF"
      },
      "execution_count": 53,
      "outputs": []
    },
    {
      "cell_type": "markdown",
      "source": [
        "###Products: Name, Description, Brand, Category, Availability, Color columns modification"
      ],
      "metadata": {
        "id": "XW7Ek27aZFuh"
      }
    },
    {
      "cell_type": "code",
      "source": [
        "products_raw = pd.read_csv('products-100000.csv')"
      ],
      "metadata": {
        "id": "I1BKrIDIZJAE"
      },
      "execution_count": 38,
      "outputs": []
    },
    {
      "cell_type": "code",
      "source": [
        "products_raw.head(20)"
      ],
      "metadata": {
        "id": "9LMhm3hyZO0X"
      },
      "execution_count": null,
      "outputs": []
    },
    {
      "cell_type": "code",
      "source": [
        "products_raw['Name'] = products_raw['Name'].apply(wrap_test)\n",
        "products_raw['Description'] = products_raw['Description'].apply(wrap_test)\n",
        "products_raw['Brand'] = products_raw['Brand'].apply(wrap_test)\n",
        "products_raw['Category'] = products_raw['Category'].apply(wrap_test)\n",
        "products_raw['Availability'] = products_raw['Availability'].apply(wrap_test)\n",
        "products_raw['Color'] = products_raw['Color'].apply(wrap_test)"
      ],
      "metadata": {
        "id": "pz_ULT83Zqz8"
      },
      "execution_count": 41,
      "outputs": []
    },
    {
      "cell_type": "code",
      "source": [
        "products_raw.head(10)"
      ],
      "metadata": {
        "id": "uGmq9EMAaKHw"
      },
      "execution_count": null,
      "outputs": []
    },
    {
      "cell_type": "code",
      "source": [
        "products_raw.to_csv('products_mdf-100000.csv', index=False)"
      ],
      "metadata": {
        "id": "47TWlxMrcn2O"
      },
      "execution_count": 54,
      "outputs": []
    }
  ]
}